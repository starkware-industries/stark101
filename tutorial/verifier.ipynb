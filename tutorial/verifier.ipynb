{
 "cells": [
  {
   "cell_type": "code",
   "execution_count": 1,
   "metadata": {},
   "outputs": [],
   "source": [
    "from channel import Channel\n",
    "from field import FieldElement\n",
    "from merkle import MerkleTree\n",
    "from polynomial import interpolate_poly, Polynomial"
   ]
  },
  {
   "cell_type": "code",
   "execution_count": 2,
   "metadata": {},
   "outputs": [
    {
     "name": "stderr",
     "output_type": "stream",
     "text": [
      "100%|██████████| 1023/1023 [00:11<00:00, 88.97it/s]\n"
     ]
    }
   ],
   "source": [
    "# Trace\n",
    "t = [FieldElement(1), FieldElement(3141592)]\n",
    "while len(t) < 1023:\n",
    "    t.append(t[-2] * t[-2] + t[-1] * t[-1])\n",
    "# Mult group\n",
    "g = FieldElement.generator() ** (3 * 2 ** 20)\n",
    "points = [g ** i for i in range(1024)]\n",
    "# Coset subgroup\n",
    "h_gen = FieldElement.generator() ** ((2 ** 30 * 3) // 8192)\n",
    "H = [h_gen ** i for i in range(8192)]\n",
    "# domain\n",
    "domain = [FieldElement.generator() * x for x in H]\n",
    "# Interpolating polynomial\n",
    "p = interpolate_poly(points[:-1], t)\n",
    "# Domain eval\n",
    "ev = [p.eval(d) for d in domain]\n",
    "# domain eval merkle tree\n",
    "mt = MerkleTree(ev)\n",
    "ch = Channel()\n"
   ]
  },
  {
   "cell_type": "code",
   "execution_count": 3,
   "metadata": {},
   "outputs": [],
   "source": [
    "numer0 = p - Polynomial([FieldElement(1)])\n",
    "denom0 = Polynomial.gen_linear_term(FieldElement(1))\n",
    "q0, r0 = numer0.qdiv(denom0)\n",
    "numer1 = p - Polynomial([FieldElement(2338775057)])\n",
    "denom1 = Polynomial.gen_linear_term(points[1022])\n",
    "q1, r1 = numer1.qdiv(denom1)\n",
    "inner_poly0 = Polynomial([FieldElement(0), points[2]])\n",
    "final0 = p.compose(inner_poly0)\n",
    "inner_poly1 = Polynomial([FieldElement(0), points[1]])\n",
    "composition = p.compose(inner_poly1)\n",
    "final1 = composition * composition\n",
    "final2 = p * p\n",
    "numer2 = final0 - final1 - final2\n",
    "coef = [FieldElement(1)] + [FieldElement(0)] * 1023 + [FieldElement(-1)]\n",
    "numerator_of_denom2 = Polynomial(coef).scalar_mul(-1)\n",
    "factor0 = Polynomial.gen_linear_term(points[1021])\n",
    "factor1 = Polynomial.gen_linear_term(points[1022])\n",
    "factor2 = Polynomial.gen_linear_term(points[1023])\n",
    "denom_of_denom2 = factor0 * factor1 * factor2\n",
    "denom2, r_denom2 = numerator_of_denom2.qdiv(denom_of_denom2)\n",
    "q2, r2 = numer2.qdiv(denom2)"
   ]
  },
  {
   "cell_type": "code",
   "execution_count": 4,
   "metadata": {},
   "outputs": [],
   "source": [
    "# Prover provides linear factor to compose polynomial CP\n",
    "alpha0 = ch.receive_random_field_element()\n",
    "alpha1 = ch.receive_random_field_element()\n",
    "alpha2 = ch.receive_random_field_element()\n",
    "cp0 = q0.scalar_mul(alpha0)\n",
    "cp1 = q1.scalar_mul(alpha1)\n",
    "cp2 = q2.scalar_mul(alpha2)\n",
    "cp = cp0 + cp1 + cp2\n",
    "cp_ev = [cp.eval(d) for d in domain]\n",
    "cp_mt = MerkleTree(cp_ev)"
   ]
  },
  {
   "cell_type": "code",
   "execution_count": 5,
   "metadata": {},
   "outputs": [],
   "source": [
    "def next_fri_domain(domain):\n",
    "    return [x ** 2 for x in domain[:len(domain) // 2]]\n",
    "\n",
    "\n",
    "def next_fri_polynomial(poly, alpha):\n",
    "    odd_coefficients = poly.poly[1::2]\n",
    "    even_coefficients = poly.poly[::2]\n",
    "    odd = Polynomial(odd_coefficients).scalar_mul(alpha)\n",
    "    even = Polynomial(even_coefficients)\n",
    "    return odd + even\n",
    "\n",
    "\n",
    "def next_fri_layer(poly, dom, alpha):\n",
    "    next_poly = next_fri_polynomial(poly, alpha)\n",
    "    next_dom = next_fri_domain(dom)\n",
    "    next_layer = [next_poly.eval(x) for x in next_dom]\n",
    "    return next_poly, next_dom, next_layer"
   ]
  },
  {
   "cell_type": "code",
   "execution_count": 6,
   "metadata": {},
   "outputs": [],
   "source": [
    "fri_polys = [cp]\n",
    "fri_doms = [domain]\n",
    "fri_layers = [cp_ev]\n",
    "fri_mt = [cp_mt]\n",
    "beta = []\n",
    "while fri_polys[-1].degree() > 0:\n",
    "    beta.append(ch.receive_random_field_element())\n",
    "    next_poly, next_dom, next_layer = next_fri_layer(fri_polys[-1], fri_doms[-1], beta[-1])\n",
    "    fri_polys.append(next_poly)\n",
    "    fri_doms.append(next_dom)\n",
    "    fri_layers.append(next_layer)\n",
    "    fri_mt.append(MerkleTree(next_layer))\n",
    "last_one = fri_polys[-1].poly[0] # poly 0 shall be constant"
   ]
  },
  {
   "cell_type": "code",
   "execution_count": 7,
   "metadata": {},
   "outputs": [],
   "source": [
    "def decommit_on_fri_layers(idx):\n",
    "    assert len(fri_layers) == len(fri_mt), f'layers size should be same as merkles size'\n",
    "    res = []\n",
    "    i = 0\n",
    "    for layer, merkle in zip(fri_layers[:-1], fri_mt[:-1]):\n",
    "        length = len(layer)\n",
    "        idx = idx % length\n",
    "        sib_idx = (idx + length // 2) % length\n",
    "        assert len(layer) == len(fri_doms[i])\n",
    "        assert layer[idx] == fri_polys[i](fri_doms[i][idx])\n",
    "        assert layer[sib_idx] == fri_polys[i](-fri_doms[i][idx])\n",
    "        res.append(layer[idx])\n",
    "        res.append(merkle.get_authentication_path(idx))\n",
    "        res.append(layer[sib_idx])\n",
    "        res.append(merkle.get_authentication_path(sib_idx))\n",
    "        i = i+1\n",
    "    res.append(fri_layers[-1][0])\n",
    "    return res"
   ]
  },
  {
   "cell_type": "code",
   "execution_count": 8,
   "metadata": {},
   "outputs": [],
   "source": [
    "def decommit_on_query(idx):\n",
    "    f_eval = ev\n",
    "    f_merkle = mt\n",
    "    assert idx + 16 < len(f_eval), f'query index: {idx} is out of range. Length of layer: {len(f_eval)}.'\n",
    "    res = []\n",
    "    res.append(f_eval[idx]) # f(x).\n",
    "    res.append(f_merkle.get_authentication_path(idx)) # auth path for f(x).\n",
    "    res.append(f_eval[idx + 8]) # f(gx).\n",
    "    res.append(f_merkle.get_authentication_path(idx + 8)) # auth path for f(gx).\n",
    "    res.append(f_eval[idx + 16]) # f(g^2x).\n",
    "    res.append(f_merkle.get_authentication_path(idx + 16)) # auth path for f(g^2x).\n",
    "    return res"
   ]
  },
  {
   "cell_type": "code",
   "execution_count": 9,
   "metadata": {},
   "outputs": [],
   "source": [
    "# Prover knows\n",
    "# * f eval on domain commitment, mt\n",
    "# * cp eval on domain commitment, cp_mt\n",
    "# * FRI protocol eval on each layer commiment, fri_mt\n",
    "# * FRI last one commitment, last_one\n",
    "# * size of domain, length\n",
    "# * challenge alpha's for composing CP\n",
    "# * challenge beta's on each layer of FRI operator\n",
    "# * domain"
   ]
  },
  {
   "cell_type": "code",
   "execution_count": 10,
   "metadata": {},
   "outputs": [],
   "source": [
    "# for single query\n",
    "idx = ch.receive_random_int(0, 8191-16)\n",
    "proof_f = decommit_on_query(idx)\n",
    "proof_cp = decommit_on_fri_layers(idx)"
   ]
  },
  {
   "cell_type": "code",
   "execution_count": 11,
   "metadata": {},
   "outputs": [],
   "source": [
    "# Basic check\n",
    "assert len(proof_cp) % 2\n",
    "v_last_one = proof_cp.pop()\n",
    "assert v_last_one == last_one"
   ]
  },
  {
   "cell_type": "code",
   "execution_count": 12,
   "metadata": {},
   "outputs": [],
   "source": [
    "from merkle import verify_decommitment"
   ]
  },
  {
   "cell_type": "code",
   "execution_count": 13,
   "metadata": {},
   "outputs": [],
   "source": [
    "# Check polynomial constraint\n",
    "# First check evaluation of polynomial f is honest\n",
    "v_f_eval = proof_f[0::2]\n",
    "v_f_auth = proof_f[1::2]\n",
    "assert len(v_f_eval) == len(v_f_auth)\n",
    "for i in range(len(v_f_eval)):\n",
    "    assert verify_decommitment(idx + 8 * i, v_f_eval[i], v_f_auth[i], mt.root ), f'in iter {i}, go wrong'\n",
    "# Then check whether they could satify the recursive condition\n",
    "v_cp0 = proof_cp[:2]\n",
    "length = len(fri_layers[0]) # 8192 shoud be a prior knowledge\n",
    "assert verify_decommitment(idx % length, v_cp0[0], v_cp0[1], cp_mt.root)"
   ]
  },
  {
   "cell_type": "code",
   "execution_count": 14,
   "metadata": {},
   "outputs": [
    {
     "name": "stdout",
     "output_type": "stream",
     "text": [
      "poly constraint success!\n"
     ]
    }
   ],
   "source": [
    "# Check the polynomial constraint\n",
    "fx = v_f_eval[0]\n",
    "fgx = v_f_eval[1]\n",
    "fggx = v_f_eval[2]\n",
    "x = domain[idx]\n",
    "p0 = (fx - 1) / (x - 1)\n",
    "p1 = (fx - 2338775057) / (x - points[1022])\n",
    "p2 = (fggx - fgx**2 - fx**2) / ((x**1024 - 1) / ((x - points[1021]) * (x - points[1022]) * (x - points[1023])))\n",
    "assert v_cp0[0] == (alpha0 * p0 + alpha1 * p1 + alpha2 * p2)\n",
    "print(\"poly constraint success!\")"
   ]
  },
  {
   "cell_type": "code",
   "execution_count": 15,
   "metadata": {},
   "outputs": [],
   "source": [
    "# Check low degree\n",
    "v_cp = proof_cp[::2]\n",
    "v_auth = proof_cp[1::2]\n",
    "assert len(v_cp) == len(v_auth)\n",
    "assert len(v_cp) % 2 == 0\n",
    "k = length\n",
    "for i in range(len(v_cp)//2):\n",
    "    iter_idx = idx % k\n",
    "    iter_sib_idx = (idx + k // 2) % k\n",
    "    assert verify_decommitment(iter_idx, v_cp[2*i], v_auth[2*i], fri_mt[i].root)\n",
    "    assert verify_decommitment(iter_sib_idx, v_cp[2*i+1], v_auth[2*i+1], fri_mt[i].root)\n",
    "    k = k >> 1"
   ]
  },
  {
   "cell_type": "code",
   "execution_count": 16,
   "metadata": {},
   "outputs": [
    {
     "name": "stdout",
     "output_type": "stream",
     "text": [
      "low degree test success!\n"
     ]
    }
   ],
   "source": [
    "k = length\n",
    "x = domain[idx]\n",
    "assert len(beta) == len(v_cp) // 2\n",
    "for i in range(len(v_cp)//2 - 1):\n",
    "    op1 = (v_cp[2*i] + v_cp[2*i + 1]) / FieldElement(2)\n",
    "    op2 = (v_cp[2*i] - v_cp[2*i + 1]) / (FieldElement(2)*x)\n",
    "    rhs = op1 + beta[i] * op2\n",
    "    assert v_cp[2*(i+1)] == rhs, f\" round {i}, CP(i+1) is {v_cp[2*(i+1)]} while rhs is {rhs}\"\n",
    "    x = x**2\n",
    "print(\"low degree test success!\")"
   ]
  },
  {
   "cell_type": "code",
   "execution_count": 17,
   "metadata": {},
   "outputs": [],
   "source": [
    "numerator_of_denom2 = Polynomial(coef)"
   ]
  },
  {
   "cell_type": "code",
   "execution_count": 20,
   "metadata": {},
   "outputs": [
    {
     "data": {
      "text/latex": [
       "$ 1 - x^{1024} $"
      ],
      "text/plain": [
       "<polynomial.Polynomial at 0x2704cad6b50>"
      ]
     },
     "execution_count": 20,
     "metadata": {},
     "output_type": "execute_result"
    }
   ],
   "source": [
    "numerator_of_denom2"
   ]
  },
  {
   "cell_type": "code",
   "execution_count": null,
   "metadata": {},
   "outputs": [],
   "source": []
  }
 ],
 "metadata": {
  "kernelspec": {
   "display_name": "Python 3",
   "language": "python",
   "name": "python3"
  },
  "language_info": {
   "codemirror_mode": {
    "name": "ipython",
    "version": 3
   },
   "file_extension": ".py",
   "mimetype": "text/x-python",
   "name": "python",
   "nbconvert_exporter": "python",
   "pygments_lexer": "ipython3",
   "version": "3.8.3"
  }
 },
 "nbformat": 4,
 "nbformat_minor": 4
}
