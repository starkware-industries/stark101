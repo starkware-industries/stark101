{
 "cells": [
  {
   "cell_type": "markdown",
   "metadata": {},
   "source": [
    "*Copyright 2019 StarkWare Industries Ltd.<br> Licensed under the Apache License, Version 2.0 (the \"License\"). You may not use this file except in compliance with the License. You may obtain a copy of the License at https://www.starkware.co/open-source-license/ <br> Unless required by applicable law or agreed to in writing, software distributed under the License is distributed on an \"AS IS\" BASIS, WITHOUT WARRANTIES OR CONDITIONS OF ANY KIND, either express or implied. See the License for the specific language governing permissions and limitations under the License.*"
   ]
  },
  {
   "cell_type": "markdown",
   "metadata": {},
   "source": [
    "# Part 4: Query Phase"
   ]
  },
  {
   "cell_type": "markdown",
   "metadata": {},
   "source": [
    "- [Video Lecture (youtube)](https://www.youtube.com/watch?v=CxP28qM4tAc)\n",
    "- [Slides (PDF)](https://starkware.co/wp-content/uploads/2021/12/STARK101-Part4.pdf)\n",
    "\n",
    "### Load the Previous Session\n",
    "Run the next cell to load the variables we'll use in this part. Since it repeats everything done in previous parts - it will take a while to run."
   ]
  },
  {
   "cell_type": "code",
   "execution_count": null,
   "metadata": {},
   "outputs": [],
   "source": [
    "from channel import Channel\n",
    "from tutorial_sessions import part1, part3 \n",
    "from proof import  DecommitmentData, Proof  #import \n",
    "from random import randint\n",
    "\n",
    "_, _, points, _, _, f_domain, _, f_eval, f_merkle, _ = part1()\n",
    "fri_polys, fri_domains, fri_layers, fri_merkles, ch = part3()\n",
    "\n",
    "assert len(points) == 1024 \n",
    "assert len(f_domain) == 8192\n",
    "assert fri_layers[-1] == [807809296, 807809296, 807809296, 807809296, 807809296, 807809296, 807809296, 807809296]\n",
    "assert ch.proof == ['send:6c266a104eeaceae93c14ad799ce595ec8c2764359d7ad1b4b7c57a4da52be04', 'send:d7e5200e990727c6da6bf711aeb496244b8b48436bd6f29066e1ddb64e22605b', 'send:dcbb68ffbf425707f19f44d6c7e48026bb08fc977cfc91ca82cc29b89913c037', 'send:b59994a75458d007e5b67f02700b7f96bbc510900c1fb6124797575318a7340c', 'send:92b9297e4d1920f6c91500350a22592e41f35d3e127bac0d68c36224cb3e8abe', 'send:43b2754838e9f452f7dd8fe0b7ebd642e1e157d27ca810775b19a49e74512434', 'send:c26be2d587fad765c7c81d888d5f9d8a3c92f8ae4ef802c4b1be6c6b483dba78', 'send:4c7e733cf2c6ed1541a0d3dd11f8df5a736d4fa5410114f9f7187253f0beaf3c', 'send:f42d6ba6d5a1e8ab9b8c2e44eb9fd8dd296c949a1fb8152fda8c9398bea2474f', 'send:10f032ad5a87c7a432b035b3b759bdef277a851b3ed99296cb89c73205a5a605', 'send:cd47fddeda8d081481286de849c04a4746f1541d3f047a7d56837ed5e517d7d8', 'send:57fbccfbb49bc6389f4327bcfc9ae7b32a9bd6593ddcc30238f80a399a45906c', 'send:807809296']\n",
    "print('success')\n"
   ]
  },
  {
   "cell_type": "markdown",
   "metadata": {},
   "source": [
    "## Decommit on a Query\n",
    "\n",
    "Our goal in this part is to generate all the information needed for verifying the commitments of the three previous parts. In this part we write two functions:\n",
    "1. `decommit_on_fri_layers` - sends over the channel data showing that each FRI layer is consistent with the others, when sampled at a specified index.\n",
    "2. `decommit_on_query` - sends data required for decommiting on the trace and then calls `decommit_on_fri_layers`.  <br>"
   ]
  },
  {
   "cell_type": "markdown",
   "metadata": {},
   "source": [
    "### Decommit on the FRI Layers\n",
    "Implement `decommit_on_fri_layers` function. The function gets an index and a channel, and sends over the channel the relevant data for verifying the correctness of the FRI layers. More specifically, it iterates over `fri_layers` and `fri_merkles` and in each iteration it sends the following data (in the stated order):\n",
    "1. The element of the FRI layer at the given index (using `fri_layers`).\n",
    "2. Its authentication path (using the corresponding Merkle tree from `fri_merkles`).\n",
    "3. The element's FRI sibling (i.e., if the element is $cp_i(x)$, then its sibling is $cp_i(-x)$, where $cp_i$ is the current layer's polynomial, and $x$ is an element from the current layer's domain). \n",
    "4. The authentication path of the element's sibling (using the same merkle tree).\n",
    "\n",
    "To get an authentication path of an element, use `get_authentication_path()` of the `MerkleTree` class, with the corresponding index each time. Note that the index of the element's sibling equals to (idx + $\\frac k  2$) mod $k$,  where $k$ is the length of the relevant FRI layer.<br>\n",
    "Note that we do **not** send the authentication path for the element in the last layer. In the last layer, all the elements are equal, regardless of the query, as they are evaluations of a constant polynomial.\n",
    "\n",
    "*(Remember to convert non-string variables into string before sending over the channel.)*"
   ]
  },
  {
   "cell_type": "code",
   "execution_count": null,
   "metadata": {},
   "outputs": [],
   "source": [
    "# Fix this.\n",
    "def decommit_on_fri_layers(idx, channel):\n",
    "    cp_proof = []\n",
    "    for layer, merkle in zip(fri_layers[:-1], fri_merkles[:-1]):\n",
    "        length = len(layer)\n",
    "        idx = idx % length\n",
    "        sib_idx = (idx + length // 2) % length\n",
    "        # Fix this: collect elements and authentication pathes of all the FRI layers but the last one.\n",
    "        \n",
    "    return cp_proof, fri_layers[-1]"
   ]
  },
  {
   "cell_type": "markdown",
   "metadata": {},
   "source": [
    "Solution:"
   ]
  },
  {
   "cell_type": "code",
   "execution_count": null,
   "metadata": {
    "jupyter": {
     "source_hidden": true
    }
   },
   "outputs": [],
   "source": [
    "def decommit_on_fri_layers(idx, channel):\n",
    "    cp_proof = []\n",
    "    for layer, merkle in zip(fri_layers[:-1], fri_merkles[:-1]):\n",
    "        length = len(layer)\n",
    "        idx = idx % length\n",
    "        sib_idx = (idx + length // 2) % length\n",
    "        proof = DecommitmentData(idx, layer[idx], merkle.get_authentication_path(idx), merkle.root)\n",
    "        cp_proof.append(proof)\n",
    "\n",
    "        proof = DecommitmentData(sib_idx, layer[sib_idx], merkle.get_authentication_path(sib_idx), merkle.root)\n",
    "        cp_proof.append(proof)   \n",
    "\n",
    "    return cp_proof, fri_layers[-1]    "
   ]
  },
  {
   "cell_type": "markdown",
   "metadata": {},
   "source": [
    "Test your code:"
   ]
  },
  {
   "cell_type": "code",
   "execution_count": null,
   "metadata": {},
   "outputs": [],
   "source": [
    "# Test against a precomputed hash.\n",
    "test_channel = Channel()\n",
    "for query in [7527, 8168, 1190, 2668, 1262, 1889, 3828, 5798, 396, 2518]:\n",
    "    cp_proof, fri_layer = decommit_on_fri_layers(query, test_channel)\n",
    "    assert fri_layer == [807809296, 807809296, 807809296, 807809296, 807809296, 807809296, 807809296, 807809296]\n",
    "    for i in range(len(cp_proof)//2):\n",
    "        assert cp_proof[2*i].merkle_root == cp_proof[2*i+1].merkle_root\n",
    "        assert cp_proof[2*i].merkle_root == fri_merkles[i].root\n",
    "print('Success!')"
   ]
  },
  {
   "cell_type": "markdown",
   "metadata": {},
   "source": [
    "### Decommit on the Trace Polynomial\n",
    "To prove that indeed the FRI layers we decommit on were generated from evaluation of the composition polynomial, we must also send:\n",
    "1. The value $f(x)$ with its authentication path.\n",
    "2. The value $f(gx)$ with its authentication path.\n",
    "3. The value $f(g^2x)$ with its authentication path. <br>\n",
    "The verifier, knowing the random coefficients of the composition polynomial, can compute its evaluation at $x$, and compare it with the first element sent from the first FRI layer.\n",
    "\n",
    "The function `decommit_on_query` should therefore send the above (1, 2, and 3) over the channel, and then call `decommit_on_fri_layers`. <br> <br>\n",
    "\n",
    "Importantly, even though $x, gx, g^2x$ are consecutive elements (modulo the group size $|G|$) in the trace, the evaluations of `f_eval` in these points are actually 8 elements apart. The reason for this is that we \"blew up\" the trace to 8 times its size in part I, to obtain a Reed Solomon codeword.\n",
    "\n",
    "*Reminder: `f_eval` is the evaluation of the composition polynomial, and `f_merkle` is the corresponding Merkle tree.*"
   ]
  },
  {
   "cell_type": "code",
   "execution_count": null,
   "metadata": {},
   "outputs": [],
   "source": [
    "def decommit_on_query(idx, channel):\n",
    "    # Send elements and authentication pathes for f(x), f(gx) and f(g^2x) over the channel. \n",
    "    channel.send('f(x)')\n",
    "    channel.send('f(x)\\'s authentication path')\n",
    "    channel.send('f(gx)')\n",
    "    channel.send('f(gx)\\'s authentication path')\n",
    "    channel.send('f(g^2x)')\n",
    "    channel.send('f(g^2x)\\'s authentication path')\n",
    "    decommit_on_fri_layers(idx, channel) # No need to fix this line."
   ]
  },
  {
   "cell_type": "markdown",
   "metadata": {},
   "source": [
    "Solution:"
   ]
  },
  {
   "cell_type": "code",
   "execution_count": null,
   "metadata": {
    "jupyter": {
     "source_hidden": true
    }
   },
   "outputs": [],
   "source": [
    "def decommit_on_query(idx, channel): \n",
    "    assert idx + 16 < len(f_eval), f'query index: {idx} is out of range. Length of layer: {len(f_eval)}.'\n",
    "\n",
    "    x_proof = DecommitmentData(idx, f_eval[idx], f_merkle.get_authentication_path(idx), f_merkle.root)\n",
    "\n",
    "    next_idx = idx + 8\n",
    "    gx_proof = DecommitmentData(next_idx, f_eval[next_idx], f_merkle.get_authentication_path(next_idx), f_merkle.root)\n",
    "\n",
    "    next_next_idx = idx + 16\n",
    "    g2x_proof = DecommitmentData(next_next_idx, f_eval[next_next_idx], f_merkle.get_authentication_path(next_next_idx), f_merkle.root)\n",
    "\n",
    "    cp_proof, final_values = decommit_on_fri_layers(idx, channel)\n",
    "    proof = Proof(x_proof, gx_proof, g2x_proof, cp_proof, final_values, points, f_domain)\n",
    "    return proof\n",
    "  "
   ]
  },
  {
   "cell_type": "markdown",
   "metadata": {},
   "source": [
    "Test your code:"
   ]
  },
  {
   "cell_type": "code",
   "execution_count": null,
   "metadata": {},
   "outputs": [],
   "source": [
    "# Test against a precomputed hash.\n",
    "test_channel = Channel()\n",
    "for query in [8134, 1110, 1134, 6106, 7149, 4796, 144, 4738, 957]:\n",
    "   proof = decommit_on_query(query, test_channel)\n",
    "   assert proof.final_values == [807809296, 807809296, 807809296, 807809296, 807809296, 807809296, 807809296, 807809296]\n",
    "   valid = proof.verify(proof.final_values[0], f_merkle, fri_merkles)\n",
    "   assert valid\n",
    "\n",
    "print('Success!')"
   ]
  },
  {
   "cell_type": "markdown",
   "metadata": {},
   "source": [
    "### Decommit on a Set of Queries\n",
    "To finish the proof, the prover gets a set of random queries from the channel, i.e., indices between 0 to 8191, and decommits on each query.\n",
    "\n",
    "Use the function that you just implemented `decommit_on_query()`, and `Channel.receive_random_int` to generate 3 random queries and decommit on each."
   ]
  },
  {
   "cell_type": "code",
   "execution_count": null,
   "metadata": {},
   "outputs": [],
   "source": [
    "# Fix this.\n",
    "def decommit_fri(channel):\n",
    "    for query in range(3):\n",
    "        idx = randint(0, 8192-16)\n",
    "        pass # Get a random index from the channel and send the corresponding decommitment.    "
   ]
  },
  {
   "cell_type": "markdown",
   "metadata": {},
   "source": [
    "Solution:"
   ]
  },
  {
   "cell_type": "code",
   "execution_count": null,
   "metadata": {
    "jupyter": {
     "source_hidden": true
    }
   },
   "outputs": [],
   "source": [
    "\n",
    "def decommit_fri(channel):\n",
    "    for query in range(3):\n",
    "        # Get a random index from the verifier and send the corresponding decommitment.\n",
    "        idx = randint(0, 8192-16)\n",
    "        proof = decommit_on_query(query, test_channel)\n",
    "        assert proof.final_values == [807809296, 807809296, 807809296, 807809296, 807809296, 807809296, 807809296, 807809296]\n",
    "        valid = proof.verify(proof.final_values[0], f_merkle, fri_merkles)\n",
    "        assert valid\n"
   ]
  },
  {
   "cell_type": "markdown",
   "metadata": {},
   "source": [
    "## Proving Time!\n",
    "Run the following cell that ties it all together, running all previous code, as well as the functions you wrote in this part, and prints the proof."
   ]
  },
  {
   "cell_type": "code",
   "execution_count": null,
   "metadata": {},
   "outputs": [],
   "source": [
    "import time\n",
    "from tutorial_sessions import part1, part3 \n",
    "\n",
    "start = time.time()\n",
    "start_all = start\n",
    "print(\"Generating the trace...\")\n",
    "_, _, _, _, _, _, _, f_eval, f_merkle, _ = part1()\n",
    "print(f'{time.time() - start}s')\n",
    "start = time.time()\n",
    "print(\"Generating the composition polynomial and the FRI layers...\")\n",
    "fri_polys, fri_domains, fri_layers, fri_merkles, channel = part3()\n",
    "print(f'{time.time() - start}s')\n",
    "start = time.time()\n",
    "print(\"Generating queries and decommitments...\")\n",
    "decommit_fri(channel)\n",
    "print(f'{time.time() - start}s')\n",
    "start = time.time()\n",
    "print(f'Overall time: {time.time() - start_all}s')"
   ]
  }
 ],
 "metadata": {
  "kernelspec": {
   "display_name": "Python 3 (ipykernel)",
   "language": "python",
   "name": "python3"
  },
  "language_info": {
   "codemirror_mode": {
    "name": "ipython",
    "version": 3
   },
   "file_extension": ".py",
   "mimetype": "text/x-python",
   "name": "python",
   "nbconvert_exporter": "python",
   "pygments_lexer": "ipython3",
   "version": "3.8.10"
  }
 },
 "nbformat": 4,
 "nbformat_minor": 4
}
