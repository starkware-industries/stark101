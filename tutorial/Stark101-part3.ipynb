{
 "cells": [
  {
   "cell_type": "markdown",
   "metadata": {},
   "source": [
    "*Copyright 2019 StarkWare Industries Ltd.<br> Licensed under the Apache License, Version 2.0 (the \"License\"). You may not use this file except in compliance with the License. You may obtain a copy of the License at https://www.starkware.co/open-source-license/ <br> Unless required by applicable law or agreed to in writing, software distributed under the License is distributed on an \"AS IS\" BASIS, WITHOUT WARRANTIES OR CONDITIONS OF ANY KIND, either express or implied. See the License for the specific language governing permissions and limitations under the License.*"
   ]
  },
  {
   "cell_type": "markdown",
   "metadata": {},
   "source": [
    "# Part 3: FRI Commitments"
   ]
  },
  {
   "cell_type": "markdown",
   "metadata": {
    "tags": []
   },
   "source": [
    "- [Video Lecture (youtube)](https://www.youtube.com/watch?v=gd1NbKUOJwA)\n",
    "- [Slides (PDF)](https://starkware.co/wp-content/uploads/2021/12/STARK101-Part3.pdf)\n",
    "\n",
    "### Load Previous Session\n",
    "Run the next cell to load the relevant variables. As usual - it will take a while to run."
   ]
  },
  {
   "cell_type": "code",
   "execution_count": null,
   "metadata": {},
   "outputs": [],
   "source": [
    "from channel import Channel\n",
    "from field import FieldElement\n",
    "from merkle import MerkleTree\n",
    "from polynomial import interpolate_poly, Polynomial\n",
    "from tutorial_sessions import part1, part2\n",
    "\n",
    "cp, cp_eval, cp_merkle, channel, eval_domain = part2()\n",
    "print(\"Success\")"
   ]
  },
  {
   "cell_type": "markdown",
   "metadata": {},
   "source": [
    "## FRI Folding\n",
    "\n",
    "Our goal in this part is to construct the FRI layers and commit on them. \n",
    "<br>To obtain each layer we need:\n",
    "1. To generate a domain for the layer (from the previous layer's domain).\n",
    "2. To generate a polynomial for the layer (from the previous layer's polynomial and domain).\n",
    "3. To evaluate said polynomial on said domain - **this is the next FRI layer**."
   ]
  },
  {
   "cell_type": "markdown",
   "metadata": {},
   "source": [
    "### Domain Generation\n",
    "\n",
    "The first FRI domain is simply the `eval_domain` that you already generated in Part 1, namely a coset of a group of order 8192. Each subsequent FRI domain is obtained by taking the first half of the previous FRI domain (dropping the second half), and squaring each of its elements.<br>\n",
    "\n",
    "Formally - we got `eval_domain` by taking:<br>\n",
    "$$w, w\\cdot h, w\\cdot h^2, ..., w\\cdot h^{8191}$$\n",
    "\n",
    "The next layer will therefore be:<br>\n",
    "$$w^2, (w\\cdot h)^2, (w\\cdot h^2)^2, ..., (w\\cdot h^{4095})^2$$"
   ]
  },
  {
   "cell_type": "markdown",
   "metadata": {},
   "source": [
    "Note that taking the squares of the second half of each elements in `eval_domain` yields exactly\n",
    "the same result as taking the squares of the first half. This is true for the next layers as well.\n",
    "For example:"
   ]
  },
  {
   "cell_type": "code",
   "execution_count": null,
   "metadata": {},
   "outputs": [],
   "source": [
    "print(eval_domain[100] ** 2)\n",
    "half_domain_size = len(eval_domain) // 2\n",
    "print(eval_domain[half_domain_size + 100] ** 2)"
   ]
  },
  {
   "cell_type": "markdown",
   "metadata": {},
   "source": [
    "Similarly, the domain of the third layer will be:<br>\n",
    "$$w^4, (w\\cdot h)^4, (w\\cdot h^2)^4, ..., (w\\cdot h^{2047})^4$$\n",
    "\n",
    "And so on."
   ]
  },
  {
   "cell_type": "markdown",
   "metadata": {},
   "source": [
    "Write a function `next_fri_domain` that takes the previous domain as an argument, and outputs the next one."
   ]
  },
  {
   "cell_type": "code",
   "execution_count": null,
   "metadata": {},
   "outputs": [],
   "source": [
    "def next_fri_domain(fri_domain):\n",
    "    # Fix this.\n",
    "    return [x for x in fri_domain[:len(fri_domain) // 2]]"
   ]
  },
  {
   "cell_type": "markdown",
   "metadata": {},
   "source": [
    "<details><summary>Solution</summary>\n",
    "\n",
    "```python\n",
    "def next_fri_domain(fri_domain):\n",
    "    return [x ** 2 for x in fri_domain[:len(fri_domain) // 2]]\n",
    "```\n",
    "\n",
    "</details>"
   ]
  },
  {
   "cell_type": "markdown",
   "metadata": {},
   "source": [
    "Run test: "
   ]
  },
  {
   "cell_type": "code",
   "execution_count": null,
   "metadata": {},
   "outputs": [],
   "source": [
    "# Test against a precomputed hash.\n",
    "from hashlib import sha256\n",
    "next_domain = next_fri_domain(eval_domain)\n",
    "assert '5446c90d6ed23ea961513d4ae38fc6585f6614a3d392cb087e837754bfd32797' == sha256(','.join([str(i) for i in next_domain]).encode()).hexdigest()\n",
    "print('Success!')"
   ]
  },
  {
   "cell_type": "markdown",
   "metadata": {},
   "source": [
    "### FRI Folding Operator\n",
    "The first FRI polynomial is simply the composition polynomial, i.e., `cp`.<br>\n",
    "Each subsequent FRI polynomial is obtained by:\n",
    "1. Getting a random field element $\\beta$ (by calling `Channel.receive_random_field_element`).\n",
    "2. Multiplying the odd coefficients of the previous polynomial by $\\beta$.\n",
    "3. Summing together consecutive pairs (even-odd) of coefficients.\n",
    "\n",
    "Formally, let's say that the k-th polynomial is of degree $< m$ (for some $m$ which is a power of 2):\n",
    "\n",
    "$$p_{k}(x) := \\sum _{i=0} ^{m-1} c_i x^i$$\n",
    "\n",
    "\n",
    "Then the (k+1)-th polynomial, whose degree is $< \\frac m 2 $ will be:\n",
    "\n",
    "$$p_{k+1}(x) := \\sum _{i=0} ^{  m / 2 - 1 } (c_{2i} + \\beta \\cdot c_{2i + 1}) x^i$$"
   ]
  },
  {
   "cell_type": "markdown",
   "metadata": {},
   "source": [
    "Write a function `next_fri_polynomial` that takes as arguments a polynomial and a field element (the one we referred to as $\\beta$), and returns the \"folded\" next polynomial.\n",
    "\n",
    "Note that:\n",
    "1. `Polynomial.poly` contains a list of a polynomial's coefficients, the free term first, and the highest degree last, so `p.poly[i] == u` if the coefficient of $x^i$ is $u$.*\n",
    "2. `Polynomial`'s default constructor takes the list of coefficients as argument. So a polynomial can be instantiated from a list of coefficients `l` by calling `Polynomial(l)`.\n"
   ]
  },
  {
   "cell_type": "code",
   "execution_count": null,
   "metadata": {},
   "outputs": [],
   "source": [
    "def next_fri_polynomial(poly, beta):\n",
    "    odd_coefficients = poly.poly[1::2] # No need to fix this line.\n",
    "    even_coefficients = poly.poly[::2] # No need to fix this line either.\n",
    "    odd = 'YOUR_CODE_HERE'\n",
    "    even = 'YOUR_CODE_HERE'\n",
    "    return 'YOUR_CODE_HERE'"
   ]
  },
  {
   "cell_type": "markdown",
   "metadata": {},
   "source": [
    "<details><summary>Solution</summary>\n",
    "\n",
    "```python\n",
    "def next_fri_polynomial(poly,  beta):\n",
    "    odd_coefficients = poly.poly[1::2]\n",
    "    even_coefficients = poly.poly[::2]\n",
    "    odd = beta * Polynomial(odd_coefficients)\n",
    "    even = Polynomial(even_coefficients)\n",
    "    return odd + even\n",
    "```\n",
    "\n",
    "</details>"
   ]
  },
  {
   "cell_type": "markdown",
   "metadata": {},
   "source": [
    "Run test:"
   ]
  },
  {
   "cell_type": "code",
   "execution_count": null,
   "metadata": {},
   "outputs": [],
   "source": [
    "next_p = next_fri_polynomial(cp, FieldElement(987654321))\n",
    "assert '6bff4c35e1aa9693f9ceb1599b6a484d7636612be65990e726e52a32452c2154' == sha256(','.join([str(i) for i in next_p.poly]).encode()).hexdigest()\n",
    "print('Success!')"
   ]
  },
  {
   "cell_type": "markdown",
   "metadata": {},
   "source": [
    "### Putting it Together to Get the Next FRI Layer\n",
    "\n",
    "Write a function `next_fri_layer` that takes a polynomial, a domain, and a field element (again - $\\beta$), and returns the next polynomial, the next domain, and the evaluation of this next polynomial on this next domain."
   ]
  },
  {
   "cell_type": "code",
   "execution_count": null,
   "metadata": {},
   "outputs": [],
   "source": [
    "def next_fri_layer(poly, domain, beta):\n",
    "    next_poly = 'YOUR_CODE_HERE'\n",
    "    next_domain = 'YOUR_CODE_HERE'\n",
    "    next_layer = 'YOUR_CODE_HERE'\n",
    "    return next_poly, next_domain, next_layer"
   ]
  },
  {
   "cell_type": "markdown",
   "metadata": {},
   "source": [
    "<details><summary>Solution</summary>\n",
    "\n",
    "```python\n",
    "def next_fri_layer(poly, domain, beta):\n",
    "    next_poly = next_fri_polynomial(poly, beta)\n",
    "    next_domain = next_fri_domain(domain)\n",
    "    next_layer = [next_poly(x) for x in next_domain]\n",
    "    return next_poly, next_domain, next_layer\n",
    "```\n",
    "\n",
    "</details>"
   ]
  },
  {
   "cell_type": "markdown",
   "metadata": {},
   "source": [
    "Run test:"
   ]
  },
  {
   "cell_type": "code",
   "execution_count": null,
   "metadata": {},
   "outputs": [],
   "source": [
    "test_poly = Polynomial([FieldElement(2), FieldElement(3), FieldElement(0), FieldElement(1)])\n",
    "test_domain = [FieldElement(3), FieldElement(5)]\n",
    "beta = FieldElement(7)\n",
    "next_p, next_d, next_l = next_fri_layer(test_poly, test_domain, beta)\n",
    "assert next_p.poly == [FieldElement(23), FieldElement(7)]\n",
    "assert next_d == [FieldElement(9)]\n",
    "assert next_l == [FieldElement(86)]\n",
    "print('Success!')"
   ]
  },
  {
   "cell_type": "markdown",
   "metadata": {},
   "source": [
    "## Generating FRI Commitments\n",
    "\n",
    "We have now developed the tools to write the `FriCommit` method, that contains the main FRI commitment loop.<br>\n",
    "\n",
    "It takes the following 5 arguments:\n",
    "1. The composition polynomial, that is also the first FRI polynomial, that is - `cp`.\n",
    "2. The coset of order 8192 that is also the first FRI domain, that is - `eval_domain`.\n",
    "3. The evaluation of the former over the latter, which is also the first FRI layer , that is - `cp_eval`.\n",
    "4. The first Merkle tree (we will have one for each FRI layer) constructed from these evaluations, that is - `cp_merkle`.\n",
    "5. A channel object, that is `channel`.\n",
    "\n",
    "The method accordingly returns 4 lists:\n",
    "1. The FRI polynomials.\n",
    "2. The FRI domains.\n",
    "3. The FRI layers.\n",
    "4. The FRI Merkle trees.\n",
    "\n",
    "The method contains a loop, in each iteration of which we extend these four lists, using the last element in each.\n",
    "The iteration should stop once the last FRI polynomial is of degree 0, that is - when the last FRI polynomial is just a constant. It should then send over the channel this constant (i.e. - the polynomial's free term).\n",
    "The `Channel` class only supports sending strings, so make sure you convert anything you wish to send over the channel to a string before sending."
   ]
  },
  {
   "cell_type": "code",
   "execution_count": null,
   "metadata": {},
   "outputs": [],
   "source": [
    "# Fix this according to the instructions (lines with no specific comments are okay).\n",
    "def FriCommit(cp, domain, cp_eval, cp_merkle, channel):\n",
    "    fri_polys = [cp]\n",
    "    fri_domains = [domain]\n",
    "    fri_layers = [cp_eval]\n",
    "    fri_merkles = [cp_merkle]\n",
    "    while 'YOUR_CODE_HERE': # Replace this with the correct halting condition.\n",
    "        beta = 'YOUR_CODE_HERE' # Change to obtain a random element from the channel.\n",
    "        next_poly, next_domain, next_layer = 'YOUR_CODE_HERE' # Fix to obtain the next FRI polynomial, domain, and layer.\n",
    "        fri_polys.append(next_poly)\n",
    "        fri_domains.append(next_domain)\n",
    "        fri_layers.append(next_layer)\n",
    "        fri_merkles.append('YOUR_CODE_HERE') # Fix to construct the correct Merkle tree.\n",
    "        channel.send('YOUR_CODE_HERE') # Fix to send the correct commitment.\n",
    "    channel.send('YOUR_CODE_HERE') # Fix to send the last layer's free term.\n",
    "    return fri_polys, fri_domains, fri_layers, fri_merkles"
   ]
  },
  {
   "cell_type": "markdown",
   "metadata": {},
   "source": [
    "<details><summary>Solution</summary>\n",
    "\n",
    "```python\n",
    "def FriCommit(cp, domain, cp_eval, cp_merkle, channel):    \n",
    "    fri_polys = [cp]\n",
    "    fri_domains = [domain]\n",
    "    fri_layers = [cp_eval]\n",
    "    fri_merkles = [cp_merkle]\n",
    "    while fri_polys[-1].degree() > 0:\n",
    "        beta = channel.receive_random_field_element()\n",
    "        next_poly, next_domain, next_layer = next_fri_layer(fri_polys[-1], fri_domains[-1], beta)\n",
    "        fri_polys.append(next_poly)\n",
    "        fri_domains.append(next_domain)\n",
    "        fri_layers.append(next_layer)\n",
    "        fri_merkles.append(MerkleTree(next_layer))\n",
    "        channel.send(fri_merkles[-1].root)   \n",
    "    channel.send(str(fri_polys[-1].poly[0]))\n",
    "    return fri_polys, fri_domains, fri_layers, fri_merkles\n",
    "```\n",
    "\n",
    "</details>"
   ]
  },
  {
   "cell_type": "markdown",
   "metadata": {},
   "source": [
    "Run test:"
   ]
  },
  {
   "cell_type": "code",
   "execution_count": null,
   "metadata": {},
   "outputs": [],
   "source": [
    "test_channel = Channel()\n",
    "fri_polys, fri_domains, fri_layers, fri_merkles = FriCommit(cp, eval_domain, cp_eval, cp_merkle, test_channel)\n",
    "assert len(fri_layers) == 11, f'Expected number of FRI layers is 11, whereas it is actually {len(fri_layers)}.'\n",
    "assert len(fri_layers[-1]) == 8, f'Expected last layer to contain exactly 8 elements, it contains {len(fri_layers[-1])}.'\n",
    "assert all([x == FieldElement(-1138734538) for x in fri_layers[-1]]), f'Expected last layer to be constant.'\n",
    "assert fri_polys[-1].degree() == 0, 'Expacted last polynomial to be constant (degree 0).'\n",
    "assert fri_merkles[-1].root == '1c033312a4df82248bda518b319479c22ea87bd6e15a150db400eeff653ee2ee', 'Last layer Merkle root is wrong.'\n",
    "assert test_channel.state == '61452c72d8f4279b86fa49e9fb0fdef0246b396a4230a2bfb24e2d5d6bf79c2e', 'The channel state is not as expected.'\n",
    "print('Success!')"
   ]
  },
  {
   "cell_type": "markdown",
   "metadata": {},
   "source": [
    "Run the following cell to execute the function with your channel object and print the proof so far:"
   ]
  },
  {
   "cell_type": "code",
   "execution_count": null,
   "metadata": {},
   "outputs": [],
   "source": [
    "fri_polys, fri_domains, fri_layers, fri_merkles = FriCommit(cp, eval_domain, cp_eval, cp_merkle, channel)\n",
    "print(channel.proof) "
   ]
  }
 ],
 "metadata": {
  "kernelspec": {
   "display_name": "Python 3 (ipykernel)",
   "language": "python",
   "name": "python3"
  },
  "language_info": {
   "codemirror_mode": {
    "name": "ipython",
    "version": 3
   },
   "file_extension": ".py",
   "mimetype": "text/x-python",
   "name": "python",
   "nbconvert_exporter": "python",
   "pygments_lexer": "ipython3",
   "version": "3.13.3"
  }
 },
 "nbformat": 4,
 "nbformat_minor": 4
}
